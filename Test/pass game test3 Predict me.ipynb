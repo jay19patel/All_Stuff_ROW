{
 "cells": [
  {
   "cell_type": "code",
   "execution_count": 14,
   "id": "8e070651",
   "metadata": {},
   "outputs": [],
   "source": [
    "import random\n",
    "def rendom_out():\n",
    "    ran_num = (random.randint(1,6),random.randint(1,6))\n",
    "    if ran_num[0] > ran_num[1]:\n",
    "        return \"RED\"\n",
    "    elif ran_num[0] == ran_num[1]:\n",
    "        return \"TOSS\"\n",
    "    else :\n",
    "        return \"BLUE\""
   ]
  },
  {
   "cell_type": "code",
   "execution_count": 15,
   "id": "fd26e3e8",
   "metadata": {},
   "outputs": [
    {
     "data": {
      "text/plain": [
       "'TOSS'"
      ]
     },
     "execution_count": 15,
     "metadata": {},
     "output_type": "execute_result"
    }
   ],
   "source": [
    "rendom_out()"
   ]
  },
  {
   "cell_type": "code",
   "execution_count": 18,
   "id": "2f47e9dd",
   "metadata": {},
   "outputs": [
    {
     "name": "stdout",
     "output_type": "stream",
     "text": [
      "LOSS\n",
      "LOSS\n",
      "WIN\n",
      "LOSS\n",
      "LOSS\n",
      "LOSS\n",
      "LOSS\n",
      "LOSS\n",
      "WIN\n",
      "LOSS\n"
     ]
    }
   ],
   "source": [
    "for i in range(10):\n",
    "    myin =rendom_out()\n",
    "    gameut = rendom_out()\n",
    "    if myin ==gameut:\n",
    "        print(\"WIN\")\n",
    "    else:\n",
    "        print(\"LOSS\")"
   ]
  },
  {
   "cell_type": "code",
   "execution_count": null,
   "id": "c28a3c9f",
   "metadata": {},
   "outputs": [],
   "source": []
  },
  {
   "cell_type": "code",
   "execution_count": null,
   "id": "e9c6a275",
   "metadata": {},
   "outputs": [],
   "source": []
  }
 ],
 "metadata": {
  "kernelspec": {
   "display_name": "Python 3 (ipykernel)",
   "language": "python",
   "name": "python3"
  },
  "language_info": {
   "codemirror_mode": {
    "name": "ipython",
    "version": 3
   },
   "file_extension": ".py",
   "mimetype": "text/x-python",
   "name": "python",
   "nbconvert_exporter": "python",
   "pygments_lexer": "ipython3",
   "version": "3.11.2"
  }
 },
 "nbformat": 4,
 "nbformat_minor": 5
}
