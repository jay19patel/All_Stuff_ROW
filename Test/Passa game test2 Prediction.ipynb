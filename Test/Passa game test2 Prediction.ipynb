{
 "cells": [
  {
   "cell_type": "code",
   "execution_count": 1,
   "id": "9a3a8626",
   "metadata": {},
   "outputs": [],
   "source": [
    "# Loss prie and win Price "
   ]
  },
  {
   "cell_type": "code",
   "execution_count": 2,
   "id": "158da9f2",
   "metadata": {},
   "outputs": [],
   "source": [
    "mylist = ['TOSS', 'BLUE', 'BLUE', 'RED', 'BLUE']"
   ]
  },
  {
   "cell_type": "code",
   "execution_count": 3,
   "id": "dfe3b5e5",
   "metadata": {},
   "outputs": [],
   "source": [
    "# 5 game rami atle 100*5 = 500 use kayra\n",
    "# if preid value is right then we get 100 na 200 thay and galat kare to loss 100\n",
    "#if preid value is right and value is toss tyhen 100 na 500 thay\n",
    "\n",
    "# 5 game ramvani"
   ]
  },
  {
   "cell_type": "code",
   "execution_count": 4,
   "id": "3bf3d5ab",
   "metadata": {},
   "outputs": [
    {
     "name": "stdout",
     "output_type": "stream",
     "text": [
      "TOSS\n",
      "You are Right 500 \n",
      "500\n",
      "TOSS\n",
      "You are Wrong\n",
      "400\n",
      "RED\n",
      "You are Wrong\n",
      "300\n",
      "RED\n",
      "You are Right\n",
      "400\n",
      "BLUE\n",
      "You are Right\n",
      "500\n"
     ]
    }
   ],
   "source": [
    "pro = []\n",
    "for i in mylist:\n",
    "    pridict_value = str(input(''))\n",
    "    if i == \"TOSS\":\n",
    "        if i == pridict_value:\n",
    "            profit =500\n",
    "            pro.append(profit)\n",
    "            print(\"You are Right 500 \")\n",
    "            print(sum(pro))\n",
    "    else:     \n",
    "        if i == pridict_value:\n",
    "            profit =100\n",
    "            pro.append(profit)\n",
    "            print(\"You are Right\")\n",
    "            print(sum(pro))\n",
    "        else:\n",
    "            profit = -100\n",
    "            pro.append(profit)\n",
    "            print(\"You are Wrong\")\n",
    "            print(sum(pro))"
   ]
  },
  {
   "cell_type": "code",
   "execution_count": 5,
   "id": "fc285338",
   "metadata": {},
   "outputs": [
    {
     "data": {
      "text/plain": [
       "500"
      ]
     },
     "execution_count": 5,
     "metadata": {},
     "output_type": "execute_result"
    }
   ],
   "source": [
    "sum(pro)"
   ]
  },
  {
   "cell_type": "code",
   "execution_count": null,
   "id": "e2609af0",
   "metadata": {},
   "outputs": [],
   "source": []
  },
  {
   "cell_type": "code",
   "execution_count": null,
   "id": "1a3d5b4b",
   "metadata": {},
   "outputs": [],
   "source": []
  }
 ],
 "metadata": {
  "kernelspec": {
   "display_name": "Python 3 (ipykernel)",
   "language": "python",
   "name": "python3"
  },
  "language_info": {
   "codemirror_mode": {
    "name": "ipython",
    "version": 3
   },
   "file_extension": ".py",
   "mimetype": "text/x-python",
   "name": "python",
   "nbconvert_exporter": "python",
   "pygments_lexer": "ipython3",
   "version": "3.11.2"
  }
 },
 "nbformat": 4,
 "nbformat_minor": 5
}
