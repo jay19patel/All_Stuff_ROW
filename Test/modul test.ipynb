{
 "cells": [
  {
   "cell_type": "code",
   "execution_count": 50,
   "id": "d62d89f7",
   "metadata": {},
   "outputs": [
    {
     "name": "stdout",
     "output_type": "stream",
     "text": [
      "Serialized data: b'\\x80\\x04\\x95*\\x00\\x00\\x00\\x00\\x00\\x00\\x00}\\x94(\\x8c\\x04name\\x94\\x8c\\x03Jay\\x94\\x8c\\x03age\\x94K\\x16\\x8c\\x04city\\x94\\x8c\\x06Valsad\\x94u.'\n",
      "Deserialized data: {'name': 'Jay', 'age': 22, 'city': 'Valsad'}\n"
     ]
    }
   ],
   "source": [
    "import pickle\n",
    "import sys\n",
    "data = {\"name\": \"Jay\", \"age\": 22, \"city\": \"Valsad\"}\n",
    "\n",
    "bytes_data = pickle.dumps(data)\n",
    "\n",
    "\n",
    "print(\"Serialized data:\", bytes_data)\n",
    "\n",
    "\n",
    "deserialized_data = pickle.loads(bytes_data)\n",
    "\n",
    "print(\"Deserialized data:\", deserialized_data)\n",
    "\n"
   ]
  },
  {
   "cell_type": "code",
   "execution_count": 53,
   "id": "56214a46",
   "metadata": {},
   "outputs": [
    {
     "data": {
      "text/plain": [
       "64"
      ]
     },
     "execution_count": 53,
     "metadata": {},
     "output_type": "execute_result"
    }
   ],
   "source": [
    "jay = [\"jay\"]\n",
    "sys.getsizeof(jay)"
   ]
  },
  {
   "cell_type": "code",
   "execution_count": 54,
   "id": "411d9344",
   "metadata": {},
   "outputs": [
    {
     "data": {
      "text/plain": [
       "52"
      ]
     },
     "execution_count": 54,
     "metadata": {},
     "output_type": "execute_result"
    }
   ],
   "source": [
    "jay = \"jay\"\n",
    "sys.getsizeof(jay)"
   ]
  },
  {
   "cell_type": "code",
   "execution_count": 55,
   "id": "e95faa47",
   "metadata": {},
   "outputs": [
    {
     "data": {
      "text/plain": [
       "184"
      ]
     },
     "execution_count": 55,
     "metadata": {},
     "output_type": "execute_result"
    }
   ],
   "source": [
    "jay = {\"name\":\"jay\"}\n",
    "sys.getsizeof(jay)"
   ]
  },
  {
   "cell_type": "code",
   "execution_count": 58,
   "id": "d685498a",
   "metadata": {},
   "outputs": [
    {
     "data": {
      "text/plain": [
       "52"
      ]
     },
     "execution_count": 58,
     "metadata": {},
     "output_type": "execute_result"
    }
   ],
   "source": [
    "jay = (\"jay\")\n",
    "sys.getsizeof(jay)"
   ]
  },
  {
   "cell_type": "code",
   "execution_count": 69,
   "id": "5b5c2248",
   "metadata": {},
   "outputs": [],
   "source": [
    "import numpy as np"
   ]
  },
  {
   "cell_type": "code",
   "execution_count": 83,
   "id": "ed0c56e2",
   "metadata": {},
   "outputs": [
    {
     "data": {
      "text/plain": [
       "136"
      ]
     },
     "execution_count": 83,
     "metadata": {},
     "output_type": "execute_result"
    }
   ],
   "source": [
    "jay = [1,2,3,4,\"jay\",6,7,8,9,10]\n",
    "sys.getsizeof(jay)"
   ]
  },
  {
   "cell_type": "code",
   "execution_count": 85,
   "id": "1bc25560",
   "metadata": {},
   "outputs": [
    {
     "data": {
      "text/plain": [
       "552"
      ]
     },
     "execution_count": 85,
     "metadata": {},
     "output_type": "execute_result"
    }
   ],
   "source": [
    "sys.getsizeof(np.array(jay))"
   ]
  },
  {
   "cell_type": "code",
   "execution_count": 94,
   "id": "2392afa4",
   "metadata": {},
   "outputs": [],
   "source": [
    "import urllib3\n",
    "import requests"
   ]
  },
  {
   "cell_type": "code",
   "execution_count": 104,
   "id": "a62c3bc6",
   "metadata": {},
   "outputs": [
    {
     "data": {
      "text/plain": [
       "200"
      ]
     },
     "execution_count": 104,
     "metadata": {},
     "output_type": "execute_result"
    }
   ],
   "source": [
    "http = urllib3.PoolManager()\n",
    "r = http.request('GET', 'http://httpbin.org/robots.txt')\n",
    "r.status"
   ]
  },
  {
   "cell_type": "code",
   "execution_count": 105,
   "id": "0989c25c",
   "metadata": {},
   "outputs": [
    {
     "data": {
      "text/plain": [
       "b'User-agent: *\\nDisallow: /deny\\n'"
      ]
     },
     "execution_count": 105,
     "metadata": {},
     "output_type": "execute_result"
    }
   ],
   "source": [
    "r.data"
   ]
  },
  {
   "cell_type": "code",
   "execution_count": null,
   "id": "63514f7e",
   "metadata": {},
   "outputs": [],
   "source": []
  }
 ],
 "metadata": {
  "kernelspec": {
   "display_name": "Python 3 (ipykernel)",
   "language": "python",
   "name": "python3"
  },
  "language_info": {
   "codemirror_mode": {
    "name": "ipython",
    "version": 3
   },
   "file_extension": ".py",
   "mimetype": "text/x-python",
   "name": "python",
   "nbconvert_exporter": "python",
   "pygments_lexer": "ipython3",
   "version": "3.11.2"
  }
 },
 "nbformat": 4,
 "nbformat_minor": 5
}
